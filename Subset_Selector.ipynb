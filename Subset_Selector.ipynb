{
  "nbformat": 4,
  "nbformat_minor": 0,
  "metadata": {
    "colab": {
      "provenance": [],
      "authorship_tag": "ABX9TyMohtxuhm/Efa37AuYAGpPQ",
      "include_colab_link": true
    },
    "kernelspec": {
      "name": "python3",
      "display_name": "Python 3"
    },
    "language_info": {
      "name": "python"
    }
  },
  "cells": [
    {
      "cell_type": "markdown",
      "metadata": {
        "id": "view-in-github",
        "colab_type": "text"
      },
      "source": [
        "<a href=\"https://colab.research.google.com/github/Aarushi900/MiniProject_Subset_Selection/blob/main/Subset_Selector.ipynb\" target=\"_parent\"><img src=\"https://colab.research.google.com/assets/colab-badge.svg\" alt=\"Open In Colab\"/></a>"
      ]
    },
    {
      "cell_type": "markdown",
      "source": [
        "Finding all the subsets from a set of numbers whose sum is zero.\n",
        "\n",
        "Constraint: Subset size must be 5\n",
        "\n",
        "Set={-12, -3, -6, 7, 2, -2, 6, 3, 9, -7, -5, -8, 1, 11, -9, -4}\n",
        "\n"
      ],
      "metadata": {
        "id": "pbhLvqH2Lfhy"
      }
    },
    {
      "cell_type": "markdown",
      "source": [
        "Libraries Used"
      ],
      "metadata": {
        "id": "DlsVMKGfLpCK"
      }
    },
    {
      "cell_type": "code",
      "source": [
        "import random as r"
      ],
      "metadata": {
        "id": "bxUdDgGdLuEI"
      },
      "execution_count": 12,
      "outputs": []
    },
    {
      "cell_type": "markdown",
      "source": [
        "Parameter Settings"
      ],
      "metadata": {
        "id": "D5nW0-QrLxVG"
      }
    },
    {
      "cell_type": "code",
      "execution_count": 14,
      "metadata": {
        "id": "Pzt--u2MLVoN"
      },
      "outputs": [],
      "source": [
        "Set=set([-12, -3, -6, 7, 2, -2, 6, 3, 9, -7, -5, -8, 1, 11, -9, -4])\n",
        "SetSize=5\n",
        "Iterations=1500\n",
        "ResultList=set()"
      ]
    },
    {
      "cell_type": "markdown",
      "source": [
        "Program for choosing the sets and checking their sum"
      ],
      "metadata": {
        "id": "VCypTbKJLfGQ"
      }
    },
    {
      "cell_type": "code",
      "source": [
        "for i in range(Iterations):\n",
        "  SampleSet = r.sample(Set,SetSize)\n",
        "  if(sum(SampleSet)==0):\n",
        "    ResultList.add(tuple(SampleSet))"
      ],
      "metadata": {
        "colab": {
          "base_uri": "https://localhost:8080/"
        },
        "id": "mcomA3jKMJ38",
        "outputId": "5bccbde1-9dd4-4612-deb9-56a5d2471930"
      },
      "execution_count": 15,
      "outputs": [
        {
          "output_type": "stream",
          "name": "stderr",
          "text": [
            "<ipython-input-15-b2ca89e4ed82>:2: DeprecationWarning: Sampling from a set deprecated\n",
            "since Python 3.9 and will be removed in a subsequent version.\n",
            "  SampleSet = r.sample(Set,SetSize)\n"
          ]
        }
      ]
    },
    {
      "cell_type": "markdown",
      "source": [
        "Printing the results"
      ],
      "metadata": {
        "id": "AZdVNNkaXE3q"
      }
    },
    {
      "cell_type": "code",
      "source": [
        "for i in ResultList:\n",
        "  print(i)\n",
        "print(f\"The total number of sets in this are: {len(ResultList)}\")"
      ],
      "metadata": {
        "colab": {
          "base_uri": "https://localhost:8080/"
        },
        "id": "JrTW28WaXZT6",
        "outputId": "b3091bc1-fdb5-4c6c-8998-131e7b2c021a"
      },
      "execution_count": 16,
      "outputs": [
        {
          "output_type": "stream",
          "name": "stdout",
          "text": [
            "(11, 3, 1, -8, -7)\n",
            "(11, 3, -8, -2, -4)\n",
            "(-6, -8, 6, 1, 7)\n",
            "(-4, 1, -2, -6, 11)\n",
            "(7, -9, -3, 9, -4)\n",
            "(-12, 7, -4, -2, 11)\n",
            "(-2, -5, -6, 7, 6)\n",
            "(-5, 9, -2, -4, 2)\n",
            "(2, 6, -12, 9, -5)\n",
            "(7, -12, -6, 2, 9)\n",
            "(-4, -5, -3, 11, 1)\n",
            "(3, -6, 11, -5, -3)\n",
            "(11, 3, -8, -4, -2)\n",
            "(-4, 3, -2, 2, 1)\n",
            "(-5, 1, 9, 7, -12)\n",
            "(-12, 7, 9, 3, -7)\n",
            "(-2, 1, 6, -8, 3)\n",
            "(-4, -2, 1, 3, 2)\n",
            "(-2, 7, -7, 11, -9)\n",
            "(-6, -8, 11, 6, -3)\n",
            "(-4, -3, -6, 2, 11)\n",
            "(-7, 1, 3, -4, 7)\n",
            "(9, -9, 6, -8, 2)\n",
            "(-2, 7, 6, -4, -7)\n",
            "(-4, -5, 7, 9, -7)\n",
            "(-3, -12, 2, 6, 7)\n",
            "(9, -9, -4, 7, -3)\n",
            "(-4, 6, -2, 3, -3)\n",
            "(1, -7, 11, 3, -8)\n",
            "(-9, -6, -2, 6, 11)\n",
            "(2, 11, -5, -2, -6)\n",
            "(2, 3, 1, -2, -4)\n",
            "(-9, 2, 6, 7, -6)\n",
            "(-3, -6, -5, 11, 3)\n",
            "(-3, 6, -9, -5, 11)\n",
            "(-12, 11, -8, 3, 6)\n",
            "(6, -4, 9, -12, 1)\n",
            "(-8, 7, -12, 2, 11)\n",
            "(9, -2, 7, -8, -6)\n",
            "(-2, 9, -6, 3, -4)\n",
            "(-4, 11, 1, -5, -3)\n",
            "(-7, -5, 9, 7, -4)\n",
            "(1, 2, 7, -7, -3)\n",
            "(6, -7, -5, 9, -3)\n",
            "(-12, 7, -6, 9, 2)\n",
            "(1, 3, 9, -7, -6)\n",
            "The total number of sets in this are: 46\n"
          ]
        }
      ]
    },
    {
      "cell_type": "markdown",
      "source": [
        "The same program but including sorting"
      ],
      "metadata": {
        "id": "WBoj6opneLa9"
      }
    },
    {
      "cell_type": "code",
      "source": [
        "#-------------------------------------------------------------\n",
        "# Step 1: Library inclusion                             \n",
        "#-------------------------------------------------------------\n",
        "import random as r\n",
        "\n",
        "\n",
        "#-------------------------------------------------------------\n",
        "# Step 2: Parameter Setting\n",
        "#-------------------------------------------------------------\n",
        "Set         = set([-12, -3, -6, 7, 2, -2, 6, 3, 9, -7, -5, -8, 1, 11, -9, -4])\n",
        "SetSize     = 5\n",
        "ResultList  = set()    # Store Result List i.e. list of sets whose sum is zero\n",
        "Iterations  = 1000   # Number of Inerations\n",
        "\n",
        "\n",
        "#-------------------------------------------------------------\n",
        "# Step3: Start Program\n",
        "#-------------------------------------------------------------\n",
        "\n",
        "# Loop till number of Iterations\n",
        "for i in range(Iterations):\n",
        "    # Select number of elements from Set\n",
        "    SampleSet = r.sample(Set,SetSize)\n",
        "    SampleSet.sort()\n",
        "\n",
        "    # Sum the number of elements in the Chromosome\n",
        "    if sum(SampleSet) == 0:\n",
        "        ResultList.add(tuple(SampleSet))\n",
        "\n",
        "# Print all the sets whose sum is zero\n",
        "for r in ResultList:\n",
        "\tprint (r)\n",
        "\n",
        "# Print total sets\n",
        "print (\"\\nTotal Sets: \", len(ResultList))\n"
      ],
      "metadata": {
        "colab": {
          "base_uri": "https://localhost:8080/"
        },
        "id": "jI3p04gJctfP",
        "outputId": "d81e8b68-6228-4291-da2d-72cf578dbf4e"
      },
      "execution_count": 17,
      "outputs": [
        {
          "output_type": "stream",
          "name": "stdout",
          "text": [
            "(-7, -4, -2, 6, 7)\n",
            "(-9, -3, 2, 3, 7)\n",
            "(-8, -6, -4, 7, 11)\n",
            "(-7, -4, -3, 3, 11)\n",
            "(-9, -2, 1, 3, 7)\n",
            "(-7, -3, 1, 3, 6)\n",
            "(-9, -7, 2, 3, 11)\n",
            "(-12, -5, 1, 7, 9)\n",
            "(-12, -3, -2, 6, 11)\n",
            "(-7, -4, 1, 3, 7)\n",
            "(-7, -5, -2, 3, 11)\n",
            "(-12, 1, 2, 3, 6)\n",
            "(-6, -3, 1, 2, 6)\n",
            "(-6, -4, -2, 3, 9)\n",
            "(-8, -4, 2, 3, 7)\n",
            "(-8, -2, 1, 2, 7)\n",
            "(-8, -7, -5, 9, 11)\n",
            "(-9, -5, 1, 6, 7)\n",
            "(-6, -5, -4, 6, 9)\n",
            "(-8, -3, 2, 3, 6)\n",
            "(-5, -4, -3, 3, 9)\n",
            "(-9, -6, 2, 6, 7)\n",
            "(-7, -5, -4, 7, 9)\n",
            "(-6, -4, -2, 1, 11)\n",
            "(-9, -4, 1, 3, 9)\n",
            "(-12, -7, 1, 7, 11)\n",
            "(-8, -7, 2, 6, 7)\n",
            "\n",
            "Total Sets:  27\n"
          ]
        },
        {
          "output_type": "stream",
          "name": "stderr",
          "text": [
            "<ipython-input-17-fb626ced5d62>:23: DeprecationWarning: Sampling from a set deprecated\n",
            "since Python 3.9 and will be removed in a subsequent version.\n",
            "  SampleSet = r.sample(Set,SetSize)\n"
          ]
        }
      ]
    },
    {
      "cell_type": "markdown",
      "source": [
        "# Situation 2\n",
        "Finding all the subsets from a set of numbers whose sum is zero.\n",
        "\n",
        "**Constraint: Subset size must be 3 to 6 only**\n",
        "\n",
        "Set={-12, -3, -6, 7, 2, -2, 6, 3, 9, -7, -5, -8, 1, 11, -9, -4}\n",
        "\n"
      ],
      "metadata": {
        "id": "D1sHN-NBZH3U"
      }
    },
    {
      "cell_type": "markdown",
      "source": [
        "Libraries Used"
      ],
      "metadata": {
        "id": "MMJGUbQ-ei7r"
      }
    },
    {
      "cell_type": "code",
      "source": [
        "import random as r"
      ],
      "metadata": {
        "id": "FDlQv5-XZVjw"
      },
      "execution_count": 18,
      "outputs": []
    },
    {
      "cell_type": "markdown",
      "source": [
        "Parameter settings"
      ],
      "metadata": {
        "id": "CYmc7X-nenAK"
      }
    },
    {
      "cell_type": "code",
      "source": [
        "Set=set([-12, -3, -6, 7, 2, -2, 6, 3, 9, -7, -5, -8, 1, 11, -9, -4])\n",
        "SetSize_LL=3\n",
        "SetSize_UL=6\n",
        "Iterations=1500\n",
        "ResultList=set()"
      ],
      "metadata": {
        "id": "Y6T03HIaepER"
      },
      "execution_count": 19,
      "outputs": []
    },
    {
      "cell_type": "markdown",
      "source": [
        "Program to find set and calculate its sum to check if it is zero"
      ],
      "metadata": {
        "id": "_hWrYuoDexFS"
      }
    },
    {
      "cell_type": "code",
      "source": [
        "for i in range(Iterations):\n",
        "  SetSize=r.randint(SetSize_LL,SetSize_UL)\n",
        "  RandomSet=r.sample(Set,SetSize)\n",
        "  if sum(RandomSet)==0:\n",
        "    ResultList.add(tuple(RandomSet))"
      ],
      "metadata": {
        "colab": {
          "base_uri": "https://localhost:8080/"
        },
        "id": "b7uwIWI6e3XK",
        "outputId": "c50add54-9953-4714-a4b7-24d39c1b7750"
      },
      "execution_count": 21,
      "outputs": [
        {
          "output_type": "stream",
          "name": "stderr",
          "text": [
            "<ipython-input-21-67aa1a847e6e>:3: DeprecationWarning: Sampling from a set deprecated\n",
            "since Python 3.9 and will be removed in a subsequent version.\n",
            "  RandomSet=r.sample(Set,SetSize)\n"
          ]
        }
      ]
    },
    {
      "cell_type": "markdown",
      "source": [
        "Printing the sets and the total  number of sets found"
      ],
      "metadata": {
        "id": "CuV_Ex9UfZSM"
      }
    },
    {
      "cell_type": "code",
      "source": [
        "for i in ResultList:\n",
        "  print(i)\n",
        "print(f\"The total number of sets are: {len(ResultList)}\")"
      ],
      "metadata": {
        "colab": {
          "base_uri": "https://localhost:8080/"
        },
        "id": "rRinR28sffbA",
        "outputId": "e0d60f32-adec-45e4-8722-f4f9ead6e250"
      },
      "execution_count": 23,
      "outputs": [
        {
          "output_type": "stream",
          "name": "stdout",
          "text": [
            "(-2, 2, 1, 6, -7)\n",
            "(1, -8, 7)\n",
            "(-4, 7, 3, -9, -6, 9)\n",
            "(-7, -8, 9, 6)\n",
            "(-5, 3, 1, -4, -2, 7)\n",
            "(-8, 7, 6, -7, 2)\n",
            "(2, -4, 11, -9)\n",
            "(7, -7, -9, 9)\n",
            "(11, 6, 1, -9, 3, -12)\n",
            "(-4, -5, 11, 3, 1, -6)\n",
            "(11, 6, -6, -9, -5, 3)\n",
            "(9, 1, 3, -9, -4)\n",
            "(9, -12, 7, 3, -7)\n",
            "(-12, 9, 11, -8)\n",
            "(-2, -9, 11)\n",
            "(-3, -6, 7, 2)\n",
            "(-12, 1, 11)\n",
            "(-2, 1, -6, 7)\n",
            "(-12, -5, 11, 6)\n",
            "(7, 1, -2, 6, -9, -3)\n",
            "(9, -7, 11, -2, -5, -6)\n",
            "(-3, -6, 1, 2, 6)\n",
            "(-9, 7, -7, 9)\n",
            "(9, -4, -3, 3, -12, 7)\n",
            "(-2, -3, 1, 11, -7)\n",
            "(-6, 1, 3, 11, -9)\n",
            "(-2, -4, 1, 3, 2)\n",
            "(9, -2, -3, -4)\n",
            "(9, -7, -2)\n",
            "(3, 6, 2, -12, 7, -6)\n",
            "(1, 2, -3)\n",
            "(-4, -8, 6, 2, -3, 7)\n",
            "(3, 2, 6, -3, -8)\n",
            "(2, 7, -2, -7)\n",
            "(1, 9, -12, 3, -3, 2)\n",
            "(11, -6, -5, -2, 2)\n",
            "(6, 2, -8)\n",
            "(3, -12, 9)\n",
            "(6, -6, 9, -7, -2)\n",
            "(7, 1, -8, -2, 2)\n",
            "(-3, 11, -8)\n",
            "(2, -5, 3)\n",
            "(11, 6, -2, 1, -9, -7)\n",
            "The total number of sets are: 43\n"
          ]
        }
      ]
    }
  ]
}